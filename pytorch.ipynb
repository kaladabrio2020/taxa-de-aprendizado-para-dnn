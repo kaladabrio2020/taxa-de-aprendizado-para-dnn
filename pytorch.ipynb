{
 "cells": [
  {
   "cell_type": "code",
   "execution_count": 102,
   "metadata": {},
   "outputs": [],
   "source": [
    "import torch\n",
    "from   sklearn.model_selection import train_test_split\n",
    "from   sklearn.datasets import make_classification\n",
    "from   sklearn.preprocessing import StandardScaler\n",
    "from   sklearn.metrics import accuracy_score\n",
    "import pandas as pd\n",
    "import numpy as np"
   ]
  },
  {
   "cell_type": "code",
   "execution_count": 103,
   "metadata": {},
   "outputs": [],
   "source": [
    "X, y = make_classification(\n",
    "    n_samples=7000, n_features=10, n_informative=2, scale=100, random_state=32,\n",
    "    n_clusters_per_class=1, hypercube=False, class_sep=10\n",
    "    )"
   ]
  },
  {
   "cell_type": "code",
   "execution_count": 104,
   "metadata": {},
   "outputs": [
    {
     "data": {
      "text/plain": [
       "(7000, 10)"
      ]
     },
     "execution_count": 104,
     "metadata": {},
     "output_type": "execute_result"
    }
   ],
   "source": [
    "X.shape"
   ]
  },
  {
   "cell_type": "code",
   "execution_count": 105,
   "metadata": {},
   "outputs": [],
   "source": [
    "X = StandardScaler().fit_transform(X)"
   ]
  },
  {
   "cell_type": "code",
   "execution_count": 106,
   "metadata": {},
   "outputs": [],
   "source": [
    "X = torch.tensor(\n",
    "    data=X, dtype=torch.float32\n",
    ")\n",
    "y = torch.tensor(\n",
    "    data=y.reshape(-1, 1), dtype=torch.float32\n",
    ")"
   ]
  },
  {
   "cell_type": "code",
   "execution_count": 107,
   "metadata": {},
   "outputs": [],
   "source": [
    "xtrain, xtest, ytrain, ytest = train_test_split(\n",
    "    X, y, train_size=0.25, random_state=1\n",
    ")"
   ]
  },
  {
   "cell_type": "code",
   "execution_count": 119,
   "metadata": {},
   "outputs": [],
   "source": [
    "from torch import nn\n",
    "from torch.nn import functional as F\n",
    "\n",
    "class Model(nn.Module):\n",
    "    def __init__(self):\n",
    "        super().__init__()\n",
    "    \n",
    "        self.input_ = nn.Linear(in_features=10, out_features=20)\n",
    "        self.hidden_1 = nn.Linear(in_features=20, out_features=10)\n",
    "        self.hidden_2 = nn.Linear(in_features=10, out_features=5)\n",
    "        self.hidden_3 = nn.Linear(in_features=5, out_features=2)\n",
    "        self.output_  = nn.Linear(in_features=2, out_features=1)\n",
    "    \n",
    "    def kernel_initializer(self):\n",
    "        for layer in self.modules():\n",
    "            if isinstance(layer, nn.Linear):\n",
    "                nn.init.kaiming_normal_(\n",
    "                    layer.weight, mode='fan_in', nonlinearity='elu'\n",
    "                    )\n",
    "                if layer.bias is not None:\n",
    "                    nn.init.constant_(\n",
    "                        layer.bias, 0.\n",
    "                    )\n",
    "        \n",
    "    def forward(self, x):\n",
    "        \n",
    "        x = F.elu(self.input_(x))\n",
    "        x = F.elu(self.hidden_1(x))\n",
    "        x = F.elu(self.hidden_2(x))\n",
    "        x = F.elu(self.hidden_3(x))\n",
    "        x = F.elu(self.output_(x))\n",
    "        return x\n",
    "model = Model()      "
   ]
  },
  {
   "cell_type": "code",
   "execution_count": 109,
   "metadata": {},
   "outputs": [],
   "source": [
    "from torch.utils.data import TensorDataset,DataLoader"
   ]
  },
  {
   "cell_type": "code",
   "execution_count": 110,
   "metadata": {},
   "outputs": [],
   "source": [
    "train = TensorDataset(xtrain, ytrain)"
   ]
  },
  {
   "cell_type": "code",
   "execution_count": 111,
   "metadata": {},
   "outputs": [],
   "source": [
    "train = DataLoader(\n",
    "    dataset=train, \n",
    "    batch_size=32, \n",
    "    shuffle=True\n",
    "    )"
   ]
  },
  {
   "cell_type": "code",
   "execution_count": 112,
   "metadata": {},
   "outputs": [],
   "source": [
    "loss_fn = torch.nn.BCELoss()\n",
    "\n",
    "optim = torch.optim.SGD(\n",
    "    params=model.parameters(), momentum=0.9, nesterov=True\n",
    ")"
   ]
  },
  {
   "cell_type": "code",
   "execution_count": 113,
   "metadata": {},
   "outputs": [],
   "source": [
    "def power_schedule(eta_0, s=10, c=1):\n",
    "    def power_fn(epoch):\n",
    "        return eta_0/(1+( epoch/s ))**c\n",
    "    return power_fn\n",
    "\n",
    "power = power_schedule(eta_0=0.01, s=10, c=10)\n",
    "schedule = torch.optim.lr_scheduler.LambdaLR(\n",
    "    optimizer=optim, lr_lambda=power\n",
    ")"
   ]
  },
  {
   "cell_type": "code",
   "execution_count": 121,
   "metadata": {},
   "outputs": [
    {
     "name": "stdout",
     "output_type": "stream",
     "text": [
      "     (0) loss : 51.173 -- accuracy:0.488 -- lr:9.765625e-09\n",
      "     (1) loss : 51.276 -- accuracy:0.487 -- lr:5.995246616608976e-09\n",
      "     (2) loss : 51.224 -- accuracy:0.488 -- lr:3.765071185835268e-09\n",
      "     (3) loss : 51.302 -- accuracy:0.487 -- lr:2.4139131457213464e-09\n",
      "     (4) loss : 51.198 -- accuracy:0.488 -- lr:1.5772029579086503e-09\n",
      "     (5) loss : 51.173 -- accuracy:0.488 -- lr:1.048576e-09\n",
      "     (6) loss : 51.276 -- accuracy:0.487 -- lr:7.083803738906806e-10\n",
      "     (7) loss : 51.353 -- accuracy:0.486 -- lr:4.856935749618858e-10\n",
      "     (8) loss : 51.198 -- accuracy:0.488 -- lr:3.3761340853132606e-10\n",
      "     (9) loss : 51.250 -- accuracy:0.487 -- lr:2.3769498616783645e-10\n"
     ]
    }
   ],
   "source": [
    "for epoch in range(10):\n",
    "    loss_mean = []\n",
    "    accuracy_mean = []\n",
    "    model.train()\n",
    "    for xbatch, ybatch in train:\n",
    "\n",
    "        pred = model(xbatch)\n",
    "        \n",
    "        pred = (pred.round()).float()\n",
    "        \n",
    "        \n",
    "        loss = loss_fn(ybatch, pred)\n",
    "\n",
    "        loss.backward()\n",
    "        optim.step()\n",
    "        optim.zero_grad()\n",
    "\n",
    "        accuracy_mean.append(\n",
    "            accuracy_score(\n",
    "                y_pred=pred.detach().numpy(),\n",
    "                y_true=ybatch.detach().numpy()\n",
    "            )\n",
    "        )\n",
    "        loss_mean.append(loss.item())\n",
    "    schedule.step()\n",
    "    lr_i = optim.param_groups[0]['lr'] \n",
    "    string   = f''' \\\n",
    "    ({epoch}) loss : {np.mean(loss_mean):.3f} -- accuracy:{np.mean(accuracy_mean):.3f} -- lr:{lr_i}\\\n",
    "'''\n",
    "    print(string)"
   ]
  }
 ],
 "metadata": {
  "kernelspec": {
   "display_name": "venvGlobal",
   "language": "python",
   "name": "python3"
  },
  "language_info": {
   "codemirror_mode": {
    "name": "ipython",
    "version": 3
   },
   "file_extension": ".py",
   "mimetype": "text/x-python",
   "name": "python",
   "nbconvert_exporter": "python",
   "pygments_lexer": "ipython3",
   "version": "3.11.9"
  }
 },
 "nbformat": 4,
 "nbformat_minor": 2
}
