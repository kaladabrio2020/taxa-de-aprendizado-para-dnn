{
 "cells": [
  {
   "cell_type": "code",
   "execution_count": 214,
   "metadata": {},
   "outputs": [],
   "source": [
    "import keras\n",
    "from   sklearn.model_selection import train_test_split\n",
    "from   sklearn.datasets import make_classification\n",
    "from   sklearn.preprocessing import StandardScaler\n",
    "import pandas as pd\n",
    "import numpy as np"
   ]
  },
  {
   "cell_type": "code",
   "execution_count": 215,
   "metadata": {},
   "outputs": [],
   "source": [
    "X, y = make_classification(\n",
    "    n_samples=7000, n_features=10, n_informative=2, scale=100, random_state=32,\n",
    "    n_clusters_per_class=1, hypercube=False, class_sep=10\n",
    "    )"
   ]
  },
  {
   "cell_type": "code",
   "execution_count": 216,
   "metadata": {},
   "outputs": [],
   "source": [
    "X = StandardScaler().fit_transform(X)"
   ]
  },
  {
   "cell_type": "code",
   "execution_count": 217,
   "metadata": {},
   "outputs": [
    {
     "data": {
      "text/plain": [
       "1    3501\n",
       "0    3499\n",
       "Name: count, dtype: int64"
      ]
     },
     "execution_count": 217,
     "metadata": {},
     "output_type": "execute_result"
    }
   ],
   "source": [
    "pd.Series(y).value_counts()"
   ]
  },
  {
   "cell_type": "code",
   "execution_count": 218,
   "metadata": {},
   "outputs": [
    {
     "data": {
      "text/plain": [
       "0    0.021709\n",
       "1    0.014055\n",
       "2    0.983690\n",
       "3   -0.835300\n",
       "4   -0.982866\n",
       "5    0.012760\n",
       "6   -0.982652\n",
       "7   -0.013867\n",
       "8   -0.008053\n",
       "9    0.007010\n",
       "dtype: float64"
      ]
     },
     "execution_count": 218,
     "metadata": {},
     "output_type": "execute_result"
    }
   ],
   "source": [
    "pd.DataFrame(X).corrwith(pd.Series(y))"
   ]
  },
  {
   "cell_type": "code",
   "execution_count": 219,
   "metadata": {},
   "outputs": [],
   "source": [
    "xtrain, xtest, ytrain, ytest = train_test_split(\n",
    "    X, y, train_size=0.25, random_state=1\n",
    ")"
   ]
  },
  {
   "cell_type": "code",
   "execution_count": 220,
   "metadata": {},
   "outputs": [],
   "source": [
    "from functools import partial\n",
    "\n",
    "def Model():\n",
    "    Dense = partial(\n",
    "        keras.layers.Dense,\n",
    "        activation=keras.activations.elu,\n",
    "        kernel_initializer=keras.initializers.he_normal\n",
    "        \n",
    "    )\n",
    "    model = keras.models.Sequential([\n",
    "        Dense(20),\n",
    "        Dense(10),\n",
    "        Dense(5),\n",
    "        Dense(2),\n",
    "        Dense(1)\n",
    "    ])\n",
    "    return model"
   ]
  },
  {
   "cell_type": "code",
   "execution_count": 221,
   "metadata": {},
   "outputs": [],
   "source": [
    "model = Model()"
   ]
  },
  {
   "cell_type": "code",
   "execution_count": 222,
   "metadata": {},
   "outputs": [],
   "source": [
    "def power_schedule(eta_0, s=10, c=1):\n",
    "    def power_fn(epoch):\n",
    "        return eta_0/(1+( epoch/s ))**c\n",
    "    return power_fn\n",
    "power = power_schedule(eta_0=0.01)"
   ]
  },
  {
   "cell_type": "code",
   "execution_count": 223,
   "metadata": {},
   "outputs": [],
   "source": [
    "lr_power = keras.callbacks.LearningRateScheduler(power)"
   ]
  },
  {
   "cell_type": "code",
   "execution_count": 224,
   "metadata": {},
   "outputs": [
    {
     "name": "stdout",
     "output_type": "stream",
     "text": [
      "Epoch 1/10\n",
      "55/55 [==============================] - 1s 2ms/step - loss: 0.9438 - binary_accuracy: 0.9331 - lr: 0.0100\n",
      "Epoch 2/10\n",
      "55/55 [==============================] - 0s 2ms/step - loss: 0.1873 - binary_accuracy: 0.9857 - lr: 0.0091\n",
      "Epoch 3/10\n",
      "55/55 [==============================] - 0s 2ms/step - loss: 0.1673 - binary_accuracy: 0.9880 - lr: 0.0083\n",
      "Epoch 4/10\n",
      "55/55 [==============================] - 0s 2ms/step - loss: 0.1670 - binary_accuracy: 0.9880 - lr: 0.0077\n",
      "Epoch 5/10\n",
      "55/55 [==============================] - 0s 2ms/step - loss: 0.1668 - binary_accuracy: 0.9880 - lr: 0.0071\n",
      "Epoch 6/10\n",
      "55/55 [==============================] - 0s 2ms/step - loss: 0.1667 - binary_accuracy: 0.9886 - lr: 0.0067\n",
      "Epoch 7/10\n",
      "55/55 [==============================] - 0s 2ms/step - loss: 0.1666 - binary_accuracy: 0.9891 - lr: 0.0063\n",
      "Epoch 8/10\n",
      "55/55 [==============================] - 0s 2ms/step - loss: 0.1665 - binary_accuracy: 0.9891 - lr: 0.0059\n",
      "Epoch 9/10\n",
      "55/55 [==============================] - 0s 1ms/step - loss: 0.1664 - binary_accuracy: 0.9891 - lr: 0.0056\n",
      "Epoch 10/10\n",
      "55/55 [==============================] - 0s 4ms/step - loss: 0.1663 - binary_accuracy: 0.9891 - lr: 0.0053\n"
     ]
    }
   ],
   "source": [
    "model.compile(\n",
    "    optimizer=keras.optimizers.SGD(),\n",
    "    loss     =keras.losses.binary_crossentropy,\n",
    "    metrics  =[keras.metrics.binary_accuracy] \n",
    ")\n",
    "hist = model.fit(\n",
    "    xtrain, ytrain, epochs=10, callbacks=[lr_power]\n",
    ")"
   ]
  },
  {
   "cell_type": "code",
   "execution_count": 225,
   "metadata": {},
   "outputs": [],
   "source": [
    "power_hist = hist.history"
   ]
  },
  {
   "cell_type": "code",
   "execution_count": 226,
   "metadata": {},
   "outputs": [
    {
     "data": {
      "text/plain": [
       "[0.01,\n",
       " 0.00909090909090909,\n",
       " 0.008333333333333333,\n",
       " 0.007692307692307692,\n",
       " 0.0071428571428571435,\n",
       " 0.006666666666666667,\n",
       " 0.0062499999999999995,\n",
       " 0.0058823529411764705,\n",
       " 0.005555555555555556,\n",
       " 0.005263157894736843]"
      ]
     },
     "execution_count": 226,
     "metadata": {},
     "output_type": "execute_result"
    }
   ],
   "source": [
    "[power(i) for i in hist.epoch]"
   ]
  },
  {
   "cell_type": "markdown",
   "metadata": {},
   "source": [
    "### expo"
   ]
  },
  {
   "cell_type": "code",
   "execution_count": 227,
   "metadata": {},
   "outputs": [],
   "source": [
    "def exponencial_scheduling(eta_0=0.1, s=10):\n",
    "    def exponencial_fn(epoch):\n",
    "        return eta_0 * (0.1**(epoch/s))\n",
    "    return exponencial_fn\n",
    "\n",
    "expo = exponencial_scheduling(eta_0=0.01)"
   ]
  },
  {
   "cell_type": "code",
   "execution_count": 228,
   "metadata": {},
   "outputs": [],
   "source": [
    "lr_expo = keras.callbacks.LearningRateScheduler(expo)"
   ]
  },
  {
   "cell_type": "code",
   "execution_count": 229,
   "metadata": {},
   "outputs": [
    {
     "name": "stdout",
     "output_type": "stream",
     "text": [
      "Epoch 1/10\n",
      "55/55 [==============================] - 1s 2ms/step - loss: 0.1662 - binary_accuracy: 0.9891 - lr: 0.0100\n",
      "Epoch 2/10\n",
      "55/55 [==============================] - 0s 1ms/step - loss: 0.1661 - binary_accuracy: 0.9891 - lr: 0.0079\n",
      "Epoch 3/10\n",
      "55/55 [==============================] - 0s 1ms/step - loss: 0.1661 - binary_accuracy: 0.9891 - lr: 0.0063\n",
      "Epoch 4/10\n",
      "55/55 [==============================] - 0s 1ms/step - loss: 0.1660 - binary_accuracy: 0.9891 - lr: 0.0050\n",
      "Epoch 5/10\n",
      "55/55 [==============================] - 0s 1ms/step - loss: 0.1591 - binary_accuracy: 0.9891 - lr: 0.0040\n",
      "Epoch 6/10\n",
      "55/55 [==============================] - 0s 1ms/step - loss: 0.1137 - binary_accuracy: 0.9926 - lr: 0.0032\n",
      "Epoch 7/10\n",
      "55/55 [==============================] - 0s 1ms/step - loss: 0.1136 - binary_accuracy: 0.9926 - lr: 0.0025\n",
      "Epoch 8/10\n",
      "55/55 [==============================] - 0s 1ms/step - loss: 0.1136 - binary_accuracy: 0.9926 - lr: 0.0020\n",
      "Epoch 9/10\n",
      "55/55 [==============================] - 0s 1ms/step - loss: 0.1136 - binary_accuracy: 0.9926 - lr: 0.0016\n",
      "Epoch 10/10\n",
      "55/55 [==============================] - 0s 2ms/step - loss: 0.1136 - binary_accuracy: 0.9926 - lr: 0.0013\n"
     ]
    }
   ],
   "source": [
    "model.compile(\n",
    "    optimizer=keras.optimizers.SGD(),\n",
    "    loss     =keras.losses.binary_crossentropy,\n",
    "    metrics  =[keras.metrics.binary_accuracy] \n",
    ")\n",
    "hist = model.fit(\n",
    "    xtrain, ytrain, epochs=10, callbacks=[lr_expo]\n",
    ")"
   ]
  },
  {
   "cell_type": "code",
   "execution_count": 230,
   "metadata": {},
   "outputs": [],
   "source": [
    "class Exponencial(keras.optimizers.schedules.LearningRateSchedule):\n",
    "\n",
    "    def __init__(self, initial_learning_rate, s=10):\n",
    "        self.initial_learning_rate = initial_learning_rate\n",
    "        self.s = s\n",
    "\n",
    "    def __call__(self, step):\n",
    "        return self.initial_learning_rate * (0.1**(step/self.s))"
   ]
  },
  {
   "cell_type": "code",
   "execution_count": 231,
   "metadata": {},
   "outputs": [
    {
     "name": "stdout",
     "output_type": "stream",
     "text": [
      "Epoch 1/10\n",
      "55/55 [==============================] - 2s 3ms/step - loss: 0.1136 - binary_accuracy: 0.9926\n",
      "Epoch 2/10\n",
      "55/55 [==============================] - 0s 3ms/step - loss: 0.1136 - binary_accuracy: 0.9926\n",
      "Epoch 3/10\n",
      "55/55 [==============================] - 0s 3ms/step - loss: 0.1136 - binary_accuracy: 0.9926\n",
      "Epoch 4/10\n",
      "55/55 [==============================] - 0s 3ms/step - loss: 0.1136 - binary_accuracy: 0.9926\n",
      "Epoch 5/10\n",
      "55/55 [==============================] - 0s 3ms/step - loss: 0.1136 - binary_accuracy: 0.9926\n",
      "Epoch 6/10\n",
      "55/55 [==============================] - 0s 3ms/step - loss: 0.1136 - binary_accuracy: 0.9926\n",
      "Epoch 7/10\n",
      "55/55 [==============================] - 0s 3ms/step - loss: 0.1136 - binary_accuracy: 0.9926\n",
      "Epoch 8/10\n",
      "55/55 [==============================] - 0s 3ms/step - loss: 0.1136 - binary_accuracy: 0.9926\n",
      "Epoch 9/10\n",
      "55/55 [==============================] - 0s 2ms/step - loss: 0.1136 - binary_accuracy: 0.9926\n",
      "Epoch 10/10\n",
      "55/55 [==============================] - 0s 3ms/step - loss: 0.1136 - binary_accuracy: 0.9926\n"
     ]
    }
   ],
   "source": [
    "model.compile(\n",
    "    optimizer=keras.optimizers.SGD(learning_rate=Exponencial(0.01)),\n",
    "    loss     =keras.losses.binary_crossentropy,\n",
    "    metrics  =[keras.metrics.binary_accuracy] \n",
    ")\n",
    "hist = model.fit(\n",
    "    xtrain, ytrain, epochs=10\n",
    ")"
   ]
  },
  {
   "cell_type": "code",
   "execution_count": 232,
   "metadata": {},
   "outputs": [
    {
     "name": "stdout",
     "output_type": "stream",
     "text": [
      "165/165 [==============================] - 1s 2ms/step - loss: 0.0826 - binary_accuracy: 0.9943\n"
     ]
    },
    {
     "data": {
      "text/plain": [
       "[0.08255641162395477, 0.9942857027053833]"
      ]
     },
     "execution_count": 232,
     "metadata": {},
     "output_type": "execute_result"
    }
   ],
   "source": [
    "model.evaluate(xtest, ytest)"
   ]
  },
  {
   "cell_type": "code",
   "execution_count": 233,
   "metadata": {},
   "outputs": [],
   "source": [
    "from sklearn.metrics import classification_report"
   ]
  },
  {
   "cell_type": "code",
   "execution_count": 234,
   "metadata": {},
   "outputs": [
    {
     "name": "stdout",
     "output_type": "stream",
     "text": [
      "165/165 [==============================] - 1s 2ms/step\n"
     ]
    }
   ],
   "source": [
    "pred = model.predict(xtest)>=0.5"
   ]
  },
  {
   "cell_type": "code",
   "execution_count": 235,
   "metadata": {},
   "outputs": [
    {
     "name": "stdout",
     "output_type": "stream",
     "text": [
      "              precision    recall  f1-score   support\n",
      "\n",
      "           0       1.00      0.99      0.99      2603\n",
      "           1       0.99      1.00      0.99      2647\n",
      "\n",
      "    accuracy                           0.99      5250\n",
      "   macro avg       0.99      0.99      0.99      5250\n",
      "weighted avg       0.99      0.99      0.99      5250\n",
      "\n"
     ]
    }
   ],
   "source": [
    "print(classification_report(ytest,pred))"
   ]
  }
 ],
 "metadata": {
  "kernelspec": {
   "display_name": "venvGlobal",
   "language": "python",
   "name": "python3"
  },
  "language_info": {
   "codemirror_mode": {
    "name": "ipython",
    "version": 3
   },
   "file_extension": ".py",
   "mimetype": "text/x-python",
   "name": "python",
   "nbconvert_exporter": "python",
   "pygments_lexer": "ipython3",
   "version": "3.11.9"
  }
 },
 "nbformat": 4,
 "nbformat_minor": 2
}
