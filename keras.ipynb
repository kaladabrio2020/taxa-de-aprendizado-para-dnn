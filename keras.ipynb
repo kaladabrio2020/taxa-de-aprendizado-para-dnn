{
 "cells": [
  {
   "cell_type": "code",
   "execution_count": 168,
   "metadata": {},
   "outputs": [],
   "source": [
    "import keras\n",
    "from   sklearn.model_selection import train_test_split\n",
    "from   sklearn.datasets import make_classification\n",
    "from   sklearn.preprocessing import StandardScaler\n",
    "import pandas as pd\n",
    "import numpy as np"
   ]
  },
  {
   "cell_type": "code",
   "execution_count": 169,
   "metadata": {},
   "outputs": [],
   "source": [
    "X, y = make_classification(\n",
    "    n_samples=7000, n_features=10, n_informative=2, scale=100, random_state=32,\n",
    "    n_clusters_per_class=1, hypercube=False, class_sep=10\n",
    "    )"
   ]
  },
  {
   "cell_type": "code",
   "execution_count": 170,
   "metadata": {},
   "outputs": [],
   "source": [
    "X = StandardScaler().fit_transform(X)"
   ]
  },
  {
   "cell_type": "code",
   "execution_count": 171,
   "metadata": {},
   "outputs": [
    {
     "data": {
      "text/plain": [
       "1    3501\n",
       "0    3499\n",
       "Name: count, dtype: int64"
      ]
     },
     "execution_count": 171,
     "metadata": {},
     "output_type": "execute_result"
    }
   ],
   "source": [
    "pd.Series(y).value_counts()"
   ]
  },
  {
   "cell_type": "code",
   "execution_count": 172,
   "metadata": {},
   "outputs": [
    {
     "data": {
      "text/plain": [
       "0    0.021709\n",
       "1    0.014055\n",
       "2    0.983690\n",
       "3   -0.835300\n",
       "4   -0.982866\n",
       "5    0.012760\n",
       "6   -0.982652\n",
       "7   -0.013867\n",
       "8   -0.008053\n",
       "9    0.007010\n",
       "dtype: float64"
      ]
     },
     "execution_count": 172,
     "metadata": {},
     "output_type": "execute_result"
    }
   ],
   "source": [
    "pd.DataFrame(X).corrwith(pd.Series(y))"
   ]
  },
  {
   "cell_type": "code",
   "execution_count": 173,
   "metadata": {},
   "outputs": [],
   "source": [
    "xtrain, xtest, ytrain, ytest = train_test_split(\n",
    "    X, y, train_size=0.25, random_state=1\n",
    ")"
   ]
  },
  {
   "cell_type": "code",
   "execution_count": 174,
   "metadata": {},
   "outputs": [],
   "source": [
    "from functools import partial\n",
    "\n",
    "def Model():\n",
    "    Dense = partial(\n",
    "        keras.layers.Dense,\n",
    "        activation=keras.activations.elu,\n",
    "        kernel_initializer=keras.initializers.he_normal\n",
    "        \n",
    "    )\n",
    "    model = keras.models.Sequential([\n",
    "        Dense(20),\n",
    "        Dense(10),\n",
    "        Dense(5),\n",
    "        Dense(2),\n",
    "        Dense(1)\n",
    "    ])\n",
    "    return model"
   ]
  },
  {
   "cell_type": "code",
   "execution_count": 175,
   "metadata": {},
   "outputs": [],
   "source": [
    "model = Model()"
   ]
  },
  {
   "cell_type": "code",
   "execution_count": 182,
   "metadata": {},
   "outputs": [],
   "source": [
    "def power_schedule(eta_0, s=10, c=1):\n",
    "    def power_fn(epoch):\n",
    "        return eta_0/(1+( epoch/s ))**c\n",
    "    return power_fn\n",
    "power = power_schedule(eta_0=0.01)"
   ]
  },
  {
   "cell_type": "code",
   "execution_count": 183,
   "metadata": {},
   "outputs": [],
   "source": [
    "lr_power = keras.callbacks.LearningRateScheduler(power)"
   ]
  },
  {
   "cell_type": "code",
   "execution_count": 187,
   "metadata": {},
   "outputs": [
    {
     "name": "stdout",
     "output_type": "stream",
     "text": [
      "Epoch 1/10\n",
      "55/55 [==============================] - 1s 1ms/step - loss: 0.0787 - binary_accuracy: 0.9949 - lr: 0.0100\n",
      "Epoch 2/10\n",
      "55/55 [==============================] - 0s 2ms/step - loss: 0.0787 - binary_accuracy: 0.9949 - lr: 0.0091\n",
      "Epoch 3/10\n",
      "55/55 [==============================] - 0s 1ms/step - loss: 0.0787 - binary_accuracy: 0.9949 - lr: 0.0083\n",
      "Epoch 4/10\n",
      "55/55 [==============================] - 0s 1ms/step - loss: 0.0787 - binary_accuracy: 0.9949 - lr: 0.0077\n",
      "Epoch 5/10\n",
      "55/55 [==============================] - 0s 1ms/step - loss: 0.0787 - binary_accuracy: 0.9949 - lr: 0.0071\n",
      "Epoch 6/10\n",
      "55/55 [==============================] - 0s 2ms/step - loss: 0.0787 - binary_accuracy: 0.9949 - lr: 0.0067\n",
      "Epoch 7/10\n",
      "55/55 [==============================] - 0s 2ms/step - loss: 0.0787 - binary_accuracy: 0.9949 - lr: 0.0063\n",
      "Epoch 8/10\n",
      "55/55 [==============================] - 0s 3ms/step - loss: 0.0787 - binary_accuracy: 0.9949 - lr: 0.0059\n",
      "Epoch 9/10\n",
      "55/55 [==============================] - 0s 1ms/step - loss: 0.0787 - binary_accuracy: 0.9949 - lr: 0.0056\n",
      "Epoch 10/10\n",
      "55/55 [==============================] - 0s 1ms/step - loss: 0.0787 - binary_accuracy: 0.9949 - lr: 0.0053\n"
     ]
    }
   ],
   "source": [
    "model.compile(\n",
    "    optimizer=keras.optimizers.SGD(),\n",
    "    loss     =keras.losses.binary_crossentropy,\n",
    "    metrics  =[keras.metrics.binary_accuracy] \n",
    ")\n",
    "hist = model.fit(\n",
    "    xtrain, ytrain, epochs=10, callbacks=[lr_power]\n",
    ")"
   ]
  },
  {
   "cell_type": "code",
   "execution_count": 188,
   "metadata": {},
   "outputs": [],
   "source": [
    "power_hist = hist.history"
   ]
  },
  {
   "cell_type": "code",
   "execution_count": 189,
   "metadata": {},
   "outputs": [
    {
     "data": {
      "text/plain": [
       "[0.01,\n",
       " 0.00909090909090909,\n",
       " 0.008333333333333333,\n",
       " 0.007692307692307692,\n",
       " 0.0071428571428571435,\n",
       " 0.006666666666666667,\n",
       " 0.0062499999999999995,\n",
       " 0.0058823529411764705,\n",
       " 0.005555555555555556,\n",
       " 0.005263157894736843]"
      ]
     },
     "execution_count": 189,
     "metadata": {},
     "output_type": "execute_result"
    }
   ],
   "source": [
    "[power(i) for i in hist.epoch]"
   ]
  },
  {
   "cell_type": "markdown",
   "metadata": {},
   "source": [
    "### expo"
   ]
  },
  {
   "cell_type": "code",
   "execution_count": 190,
   "metadata": {},
   "outputs": [],
   "source": [
    "def exponencial_scheduling(eta_0=0.1, s=10):\n",
    "    def exponencial_fn(epoch):\n",
    "        return eta_0 * (0.1**(epoch/s))\n",
    "    return exponencial_fn\n",
    "\n",
    "expo = exponencial_scheduling(eta_0=0.01)"
   ]
  },
  {
   "cell_type": "code",
   "execution_count": 191,
   "metadata": {},
   "outputs": [],
   "source": [
    "lr_expo = keras.callbacks.LearningRateScheduler(expo)"
   ]
  },
  {
   "cell_type": "code",
   "execution_count": 193,
   "metadata": {},
   "outputs": [
    {
     "name": "stdout",
     "output_type": "stream",
     "text": [
      "Epoch 1/10\n",
      "55/55 [==============================] - 1s 2ms/step - loss: 0.0787 - binary_accuracy: 0.9949 - lr: 0.0100\n",
      "Epoch 2/10\n",
      "55/55 [==============================] - 0s 2ms/step - loss: 0.0787 - binary_accuracy: 0.9949 - lr: 0.0079\n",
      "Epoch 3/10\n",
      "55/55 [==============================] - 0s 2ms/step - loss: 0.0787 - binary_accuracy: 0.9949 - lr: 0.0063\n",
      "Epoch 4/10\n",
      "55/55 [==============================] - 0s 2ms/step - loss: 0.0787 - binary_accuracy: 0.9949 - lr: 0.0050\n",
      "Epoch 5/10\n",
      "55/55 [==============================] - 0s 1ms/step - loss: 0.0787 - binary_accuracy: 0.9949 - lr: 0.0040\n",
      "Epoch 6/10\n",
      "55/55 [==============================] - 0s 2ms/step - loss: 0.0787 - binary_accuracy: 0.9949 - lr: 0.0032\n",
      "Epoch 7/10\n",
      "55/55 [==============================] - 0s 2ms/step - loss: 0.0787 - binary_accuracy: 0.9949 - lr: 0.0025\n",
      "Epoch 8/10\n",
      "55/55 [==============================] - 0s 2ms/step - loss: 0.0787 - binary_accuracy: 0.9949 - lr: 0.0020\n",
      "Epoch 9/10\n",
      "55/55 [==============================] - 0s 2ms/step - loss: 0.0787 - binary_accuracy: 0.9949 - lr: 0.0016\n",
      "Epoch 10/10\n",
      "55/55 [==============================] - 0s 1ms/step - loss: 0.0787 - binary_accuracy: 0.9949 - lr: 0.0013\n"
     ]
    }
   ],
   "source": [
    "model.compile(\n",
    "    optimizer=keras.optimizers.SGD(),\n",
    "    loss     =keras.losses.binary_crossentropy,\n",
    "    metrics  =[keras.metrics.binary_accuracy] \n",
    ")\n",
    "hist = model.fit(\n",
    "    xtrain, ytrain, epochs=10, callbacks=[lr_expo]\n",
    ")"
   ]
  },
  {
   "cell_type": "code",
   "execution_count": 194,
   "metadata": {},
   "outputs": [],
   "source": [
    "class Exponencial(keras.optimizers.schedules.LearningRateSchedule):\n",
    "\n",
    "    def __init__(self, initial_learning_rate, s=10):\n",
    "        self.initial_learning_rate = initial_learning_rate\n",
    "        self.s = s\n",
    "\n",
    "    def __call__(self, step):\n",
    "        return self.initial_learning_rate * (0.1**(step/self.s))"
   ]
  },
  {
   "cell_type": "code",
   "execution_count": 196,
   "metadata": {},
   "outputs": [
    {
     "name": "stdout",
     "output_type": "stream",
     "text": [
      "Epoch 1/10\n",
      "55/55 [==============================] - 1s 2ms/step - loss: 0.0787 - binary_accuracy: 0.9949\n",
      "Epoch 2/10\n",
      "55/55 [==============================] - 0s 2ms/step - loss: 0.0787 - binary_accuracy: 0.9949\n",
      "Epoch 3/10\n",
      "55/55 [==============================] - 0s 3ms/step - loss: 0.0787 - binary_accuracy: 0.9949\n",
      "Epoch 4/10\n",
      "55/55 [==============================] - 0s 2ms/step - loss: 0.0787 - binary_accuracy: 0.9949\n",
      "Epoch 5/10\n",
      "55/55 [==============================] - 0s 2ms/step - loss: 0.0787 - binary_accuracy: 0.9949\n",
      "Epoch 6/10\n",
      "55/55 [==============================] - 0s 2ms/step - loss: 0.0787 - binary_accuracy: 0.9949\n",
      "Epoch 7/10\n",
      "55/55 [==============================] - 0s 2ms/step - loss: 0.0787 - binary_accuracy: 0.9949\n",
      "Epoch 8/10\n",
      "55/55 [==============================] - 0s 2ms/step - loss: 0.0787 - binary_accuracy: 0.9949\n",
      "Epoch 9/10\n",
      "55/55 [==============================] - 0s 2ms/step - loss: 0.0787 - binary_accuracy: 0.9949\n",
      "Epoch 10/10\n",
      "55/55 [==============================] - 0s 2ms/step - loss: 0.0787 - binary_accuracy: 0.9949\n"
     ]
    }
   ],
   "source": [
    "model.compile(\n",
    "    optimizer=keras.optimizers.SGD(learning_rate=Exponencial(0.01)),\n",
    "    loss     =keras.losses.binary_crossentropy,\n",
    "    metrics  =[keras.metrics.binary_accuracy] \n",
    ")\n",
    "hist = model.fit(\n",
    "    xtrain, ytrain, epochs=10\n",
    ")"
   ]
  },
  {
   "cell_type": "code",
   "execution_count": null,
   "metadata": {},
   "outputs": [],
   "source": []
  },
  {
   "cell_type": "code",
   "execution_count": null,
   "metadata": {},
   "outputs": [],
   "source": []
  }
 ],
 "metadata": {
  "kernelspec": {
   "display_name": "venvGlobal",
   "language": "python",
   "name": "python3"
  },
  "language_info": {
   "codemirror_mode": {
    "name": "ipython",
    "version": 3
   },
   "file_extension": ".py",
   "mimetype": "text/x-python",
   "name": "python",
   "nbconvert_exporter": "python",
   "pygments_lexer": "ipython3",
   "version": "3.11.9"
  }
 },
 "nbformat": 4,
 "nbformat_minor": 2
}
